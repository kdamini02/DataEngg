{
  "nbformat": 4,
  "nbformat_minor": 0,
  "metadata": {
    "colab": {
      "provenance": [],
      "authorship_tag": "ABX9TyN32WTKJaApDqwtR5N5/6Le",
      "include_colab_link": true
    },
    "kernelspec": {
      "name": "python3",
      "display_name": "Python 3"
    },
    "language_info": {
      "name": "python"
    }
  },
  "cells": [
    {
      "cell_type": "markdown",
      "metadata": {
        "id": "view-in-github",
        "colab_type": "text"
      },
      "source": [
        "<a href=\"https://colab.research.google.com/github/kdamini02/DataEngg/blob/main/Hadoop_Assignment_PS1.ipynb\" target=\"_parent\"><img src=\"https://colab.research.google.com/assets/colab-badge.svg\" alt=\"Open In Colab\"/></a>"
      ]
    },
    {
      "cell_type": "code",
      "execution_count": null,
      "metadata": {
        "id": "X5_F90KP5KMG"
      },
      "outputs": [],
      "source": []
    },
    {
      "cell_type": "markdown",
      "source": [
        "1. hdfs dfs -mkdir /user/$USER/dir01\n",
        "\n",
        "2. a) hdfs dfs -put input1.txt input2.txt input3.txt /user/$USER/dir01\n",
        "                  \n",
        "   b) hdfs dfs -copyFromLocal input1.txt input2.txt input3.txt /user/$USER/dir01\n",
        "\n",
        "3. a)hdfs dfs -setrep -R 5 /user/$USER/dir01\n",
        "\n",
        "  b)hdfs dfs -ls /user/$USER/dir01\n",
        "\n",
        "4. hdfs dfs -mkdir /user/$USER/scenario01\n",
        "   \n",
        "   hdfs dfs -mkdir /user/$USER/scenario01/level01\n",
        "\n",
        "   hdfs dfs -mkdir /user/$USER/scenario01/level01/level02\n",
        "\n",
        "   hdfs dfs -copyFromLocal input1.txt /user/$USER/scenario01/\n",
        "\n",
        "   hdfs dfs -copyFromLocal input2.txt /user/$USER/scenario01/level01/\n",
        "\n",
        "   hdfs dfs -copyFromLocal input3.txt /user/$USER/scenario01/level01/level02\n",
        "   \n",
        "   hdfs dfs -ls -R /user/$USER/scenario01\n",
        "\n",
        "\n",
        "   \n",
        "\n",
        "\n",
        "\n",
        "\n",
        "\n"
      ],
      "metadata": {
        "id": "pc-luFAl5Qi5"
      }
    }
  ]
}