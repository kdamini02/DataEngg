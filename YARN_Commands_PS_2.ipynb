{
  "nbformat": 4,
  "nbformat_minor": 0,
  "metadata": {
    "colab": {
      "provenance": [],
      "authorship_tag": "ABX9TyMKtkcwsf5g3q6xK3o6zIzY",
      "include_colab_link": true
    },
    "kernelspec": {
      "name": "python3",
      "display_name": "Python 3"
    },
    "language_info": {
      "name": "python"
    }
  },
  "cells": [
    {
      "cell_type": "markdown",
      "metadata": {
        "id": "view-in-github",
        "colab_type": "text"
      },
      "source": [
        "<a href=\"https://colab.research.google.com/github/kdamini02/DataEngg/blob/main/YARN_Commands_PS_2.ipynb\" target=\"_parent\"><img src=\"https://colab.research.google.com/assets/colab-badge.svg\" alt=\"Open In Colab\"/></a>"
      ]
    },
    {
      "cell_type": "markdown",
      "source": [
        "1) yarn application --list\n",
        "\n",
        "2) yarn application --kill <appId>\n",
        "\n",
        "3) yarn application --list --appStates RUNNING\n",
        "\n",
        "4) yarn logs --applicationId <applicationId>\n",
        "\n"
      ],
      "metadata": {
        "id": "Xobvn4oUCKCF"
      }
    }
  ]
}